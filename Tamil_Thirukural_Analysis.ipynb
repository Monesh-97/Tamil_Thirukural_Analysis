{
  "cells": [
    {
      "cell_type": "markdown",
      "metadata": {
        "id": "view-in-github",
        "colab_type": "text"
      },
      "source": [
        "<a href=\"https://colab.research.google.com/github/moneshj/Tamil_Thirukural_Analysis/blob/main/Tamil_Thirukural_Analysis.ipynb\" target=\"_parent\"><img src=\"https://colab.research.google.com/assets/colab-badge.svg\" alt=\"Open In Colab\"/></a>"
      ]
    },
    {
      "cell_type": "markdown",
      "metadata": {
        "id": "RvyFop-XPQO3"
      },
      "source": [
        "\n",
        "#**திருக்குறள் தகவல்கள் பகுப்பாய்வு**"
      ]
    },
    {
      "cell_type": "markdown",
      "metadata": {
        "id": "yeNoCUlhPP_q"
      },
      "source": [
        "- https://www.kaggle.com/rahulvks/thirukkural\n"
      ]
    },
    {
      "cell_type": "markdown",
      "metadata": {
        "id": "kz38Kwe4QX1-"
      },
      "source": [
        "---\n",
        "This Dataset is about - Thirukkural is an ancient book of wisdom,the greatest classic of the Tamil language, the distillation of the essential genius of the Tamil Nadu, it consisting of 1330 couplets or Kurals and authored by Thiruvalluvar.Thirukural was written by a Tamil Philosopher/Poet, 2000 years before.It explains and teaches the principle, discipline, rules, guideline to a man/woman born in any part of the earth in any period of timeline. - Words of Wisdom and Guidance to Life (Tamil Marai).\n",
        "\n",
        "\n",
        "---\n"
      ]
    },
    {
      "cell_type": "markdown",
      "metadata": {
        "id": "uXSBsjyWU9KC"
      },
      "source": [
        "The Dataset contains :\n",
        "\n",
        "\n",
        "*   அறத்துப்பால்\t380\n",
        "*   காமத்துப்பால்\t250\n",
        "*   பொருட்பால்\t 700\n",
        "*   Total:\t       1330"
      ]
    },
    {
      "cell_type": "code",
      "execution_count": 1,
      "metadata": {
        "id": "uj23XP-EPcxB"
      },
      "outputs": [],
      "source": [
        "from mpl_toolkits.mplot3d import Axes3D\n",
        "from sklearn.preprocessing import StandardScaler\n",
        "import matplotlib.pyplot as plt # plotting\n",
        "import numpy as np # linear algebra\n",
        "import os # accessing directory structure\n",
        "import pandas as pd # data processing, CSV file I/O (e.g. pd.read_csv)"
      ]
    },
    {
      "cell_type": "code",
      "source": [
        "!cp /content/data.zip /content/drive/MyDrive/datasets"
      ],
      "metadata": {
        "id": "IYoj9LoSk53A"
      },
      "execution_count": 3,
      "outputs": []
    },
    {
      "cell_type": "code",
      "execution_count": 4,
      "metadata": {
        "colab": {
          "base_uri": "https://localhost:8080/"
        },
        "id": "hcMg1oGiPeYj",
        "outputId": "f46e8aba-d240-409b-a4da-b9016d08dc46"
      },
      "outputs": [
        {
          "output_type": "stream",
          "name": "stdout",
          "text": [
            "Archive:  /content/archive.zip\n",
            "  inflating: Thirukural With Explanation.csv  \n",
            "  inflating: Thirukural.csv          \n"
          ]
        }
      ],
      "source": [
        "!unzip /content/archive.zip"
      ]
    },
    {
      "cell_type": "code",
      "execution_count": 6,
      "metadata": {
        "id": "FhaHv43wMEez"
      },
      "outputs": [],
      "source": [
        "nRowsRead = 1330\n"
      ]
    },
    {
      "cell_type": "code",
      "source": [
        "from google.colab import data_table\n",
        "data_table.enable_dataframe_formatter()"
      ],
      "metadata": {
        "id": "o4L7ryb4n4IW"
      },
      "execution_count": 9,
      "outputs": []
    },
    {
      "cell_type": "code",
      "execution_count": 10,
      "metadata": {
        "id": "5y3nMdT1PrDY"
      },
      "outputs": [],
      "source": [
        "df =pd.read_csv('/content/Thirukural With Explanation.csv',delimiter=',',nrows=nRowsRead)"
      ]
    },
    {
      "cell_type": "code",
      "execution_count": 13,
      "metadata": {
        "colab": {
          "base_uri": "https://localhost:8080/",
          "height": 363
        },
        "id": "ujovqfeVSBek",
        "outputId": "5e9a9ba3-6d79-48b4-bbf3-b2e8f651a6be"
      },
      "outputs": [
        {
          "output_type": "execute_result",
          "data": {
            "application/vnd.google.colaboratory.module+javascript": "\n      import \"https://ssl.gstatic.com/colaboratory/data_table/a6224c040fa35dcf/data_table.js\";\n\n      window.createDataTable({\n        data: [[{\n            'v': 0,\n            'f': \"0\",\n        },\n\"\\u0b85\\u0bb1\\u0ba4\\u0bcd\\u0ba4\\u0bc1\\u0baa\\u0bcd\\u0baa\\u0bbe\\u0bb2\\u0bcd \",\n\" \\u0b95\\u0b9f\\u0bb5\\u0bc1\\u0bb3\\u0bcd \\u0bb5\\u0bbe\\u0bb4\\u0bcd\\u0ba4\\u0bcd\\u0ba4\\u0bc1 \",\n\"\\u0b85\\u0b95\\u0bb0\\t\\u0bae\\u0bc1\\u0ba4\\u0bb2\\t\\u0b8e\\u0bb4\\u0bc1\\u0ba4\\u0bcd\\u0ba4\\u0bc6\\u0bb2\\u0bcd\\u0bb2\\u0bbe\\u0bae\\u0bcd\\t\\u0b86\\u0ba4\\u0bbf\\t\\t\\t\\u0baa\\u0b95\\u0bb5\\u0ba9\\u0bcd\\t\\u0bae\\u0bc1\\u0ba4\\u0bb1\\u0bcd\\u0bb1\\u0bc7\\t\\u0b89\\u0bb2\\u0b95\\u0bc1.\\t\",\n\"Translation :A, as its first of letters, every speech maintains; The \\\"Primal Deity\\\" is first through all the world's domains. \\n\",\n\"Explanation :As all letters have the letter A for their first, so the world has the eternal God for its first. \"],\n [{\n            'v': 1,\n            'f': \"1\",\n        },\n\"\\u0b85\\u0bb1\\u0ba4\\u0bcd\\u0ba4\\u0bc1\\u0baa\\u0bcd\\u0baa\\u0bbe\\u0bb2\\u0bcd \",\n\" \\u0b95\\u0b9f\\u0bb5\\u0bc1\\u0bb3\\u0bcd \\u0bb5\\u0bbe\\u0bb4\\u0bcd\\u0ba4\\u0bcd\\u0ba4\\u0bc1 \",\n\"\\u0b95\\u0bb1\\u0bcd\\u0bb1\\u0ba4\\u0ba9\\u0bbe\\u0bb2\\u0bcd\\t\\u0b86\\u0baf\\t\\u0baa\\u0baf\\u0ba9\\u0bc6\\u0ba9\\u0bcd\\u0b95\\u0bca\\u0bb2\\u0bcd\\t\\u0bb5\\u0bbe\\u0bb2\\u0bb1\\u0bbf\\u0bb5\\u0ba9\\u0bcd\\t\\t\\t\\u0ba8\\u0bb1\\u0bcd\\u0bb1\\u0bbe\\u0bb3\\u0bcd\\t\\u0ba4\\u0bca\\u0bb4\\u0bbe\\u0b85\\u0bb0\\u0bcd\\t\\u0b8e\\u0ba9\\u0bbf\\u0ba9\\u0bcd.\\t\",\n\"Translation :No fruit have men of all their studied lore, Save they the 'Purely Wise One's' feet adore. \\n\",\n\"Explanation :What Profit have those derived from learning, who worship not the good feet of Him who is possessed of pure knowledge ? \"],\n [{\n            'v': 2,\n            'f': \"2\",\n        },\n\"\\u0b85\\u0bb1\\u0ba4\\u0bcd\\u0ba4\\u0bc1\\u0baa\\u0bcd\\u0baa\\u0bbe\\u0bb2\\u0bcd \",\n\" \\u0b95\\u0b9f\\u0bb5\\u0bc1\\u0bb3\\u0bcd \\u0bb5\\u0bbe\\u0bb4\\u0bcd\\u0ba4\\u0bcd\\u0ba4\\u0bc1 \",\n\"\\u0bae\\u0bb2\\u0bb0\\u0bcd\\u0bae\\u0bbf\\u0b9a\\u0bc8\\t\\u0b8f\\u0b95\\u0bbf\\u0ba9\\u0bbe\\u0ba9\\u0bcd\\t\\u0bae\\u0bbe\\u0ba3\\u0b9f\\u0bbf\\t\\u0b9a\\u0bc7\\u0bb0\\u0bcd\\u0ba8\\u0bcd\\u0ba4\\u0bbe\\u0bb0\\u0bcd\\t\\t\\t\\u0ba8\\u0bbf\\u0bb2\\u0bae\\u0bbf\\u0b9a\\u0bc8\\t\\u0ba8\\u0bc0\\u0b9f\\u0bc1\\u0bb5\\u0bbe\\u0bb4\\u0bcd\\t\\u0bb5\\u0bbe\\u0bb0\\u0bcd.\\t\",\n\"Translation :His feet, 'Who o'er the full-blown flower hath past,' who gain In bliss long time shall dwell above this earthly plain. \\n\",\n\"Explanation :They who are united to the glorious feet of Him who occupies swiftly the flower of the mind, shall flourish in the highest of worlds (heaven). \"],\n [{\n            'v': 3,\n            'f': \"3\",\n        },\n\"\\u0b85\\u0bb1\\u0ba4\\u0bcd\\u0ba4\\u0bc1\\u0baa\\u0bcd\\u0baa\\u0bbe\\u0bb2\\u0bcd \",\n\" \\u0b95\\u0b9f\\u0bb5\\u0bc1\\u0bb3\\u0bcd \\u0bb5\\u0bbe\\u0bb4\\u0bcd\\u0ba4\\u0bcd\\u0ba4\\u0bc1 \",\n\"\\u0bb5\\u0bc7\\u0ba3\\u0bcd\\u0b9f\\u0bc1\\u0ba4\\u0bb2\\u0bcd\\t\\u0bb5\\u0bc7\\u0ba3\\u0bcd\\u0b9f\\u0bbe\\u0bae\\u0bc8\\t\\u0b87\\u0bb2\\u0bbe\\u0ba9\\u0b9f\\u0bbf\\t\\u0b9a\\u0bc7\\u0bb0\\u0bcd\\u0ba8\\u0bcd\\u0ba4\\u0bbe\\u0bb0\\u0bcd\\u0b95\\u0bcd\\u0b95\\u0bc1\\t\\t\\t\\u0baf\\u0bbe\\u0ba3\\u0bcd\\u0b9f\\u0bc1\\u0bae\\u0bcd\\t\\u0b87\\u0b9f\\u0bc1\\u0bae\\u0bcd\\u0baa\\u0bc8\\t\\u0b87\\u0bb2.\\t\",\n\"Translation :His foot, 'Whom want affects not, irks not grief,' who gain Shall not, through every time, of any woes complain. \\n\",\n\"Explanation :To those who meditate the feet of Him who is void of desire or aversion, evil shall never come. \"],\n [{\n            'v': 4,\n            'f': \"4\",\n        },\n\"\\u0b85\\u0bb1\\u0ba4\\u0bcd\\u0ba4\\u0bc1\\u0baa\\u0bcd\\u0baa\\u0bbe\\u0bb2\\u0bcd \",\n\" \\u0b95\\u0b9f\\u0bb5\\u0bc1\\u0bb3\\u0bcd \\u0bb5\\u0bbe\\u0bb4\\u0bcd\\u0ba4\\u0bcd\\u0ba4\\u0bc1 \",\n\"\\u0b87\\u0bb0\\u0bc1\\u0bb3\\u0bcd\\u0b9a\\u0bc7\\u0bb0\\u0bcd\\t\\u0b87\\u0bb0\\u0bc1\\u0bb5\\u0bbf\\u0ba9\\u0bc8\\u0baf\\u0bc1\\u0bae\\u0bcd\\t\\u0b9a\\u0bc7\\u0bb0\\u0bbe\\t\\u0b87\\u0bb1\\u0bc8\\u0bb5\\u0ba9\\u0bcd\\t\\t\\t\\u0baa\\u0bca\\u0bb0\\u0bc1\\u0bb3\\u0bcd\\u0b9a\\u0bc7\\u0bb0\\u0bcd\\t\\u0baa\\u0bc1\\u0b95\\u0bb4\\u0bcd\\u0baa\\u0bc1\\u0bb0\\u0bbf\\u0ba8\\u0bcd\\u0ba4\\u0bbe\\u0bb0\\u0bcd\\t\\u0bae\\u0bbe\\u0b9f\\u0bcd\\u0b9f\\u0bc1.\\t\",\n\"Translation :The men, who on the 'King's' true praised delight to dwell, Affects not them the fruit of deeds done ill or well. \\n\",\n\"Explanation :The two-fold deeds that spring from darkness shall not adhere to those who delight in the true praise of God. \"]],\n        columns: [[\"number\", \"index\"], [\"string\", \"Chapter Name\"], [\"string\", \"Section Name\"], [\"string\", \"Verse\"], [\"string\", \"Translation\"], [\"string\", \"Explanation\"]],\n        columnOptions: [{\"width\": \"1px\", \"className\": \"index_column\"}],\n        rowsPerPage: 25,\n        helpUrl: \"https://colab.research.google.com/notebooks/data_table.ipynb\",\n        suppressOutputScrolling: true,\n        minimumWidth: undefined,\n      });\n    ",
            "text/html": [
              "\n",
              "  <div id=\"df-ce595923-50a1-49fd-89ea-be158277ebda\">\n",
              "    <div class=\"colab-df-container\">\n",
              "      <div>\n",
              "<style scoped>\n",
              "    .dataframe tbody tr th:only-of-type {\n",
              "        vertical-align: middle;\n",
              "    }\n",
              "\n",
              "    .dataframe tbody tr th {\n",
              "        vertical-align: top;\n",
              "    }\n",
              "\n",
              "    .dataframe thead th {\n",
              "        text-align: right;\n",
              "    }\n",
              "</style>\n",
              "<table border=\"1\" class=\"dataframe\">\n",
              "  <thead>\n",
              "    <tr style=\"text-align: right;\">\n",
              "      <th></th>\n",
              "      <th>Chapter Name</th>\n",
              "      <th>Section Name</th>\n",
              "      <th>Verse</th>\n",
              "      <th>Translation</th>\n",
              "      <th>Explanation</th>\n",
              "    </tr>\n",
              "  </thead>\n",
              "  <tbody>\n",
              "    <tr>\n",
              "      <th>0</th>\n",
              "      <td>அறத்துப்பால்</td>\n",
              "      <td>கடவுள் வாழ்த்து</td>\n",
              "      <td>அகர\\tமுதல\\tஎழுத்தெல்லாம்\\tஆதி\\t\\t\\tபகவன்\\tமுதற...</td>\n",
              "      <td>Translation :A, as its first of letters, every...</td>\n",
              "      <td>Explanation :As all letters have the letter A ...</td>\n",
              "    </tr>\n",
              "    <tr>\n",
              "      <th>1</th>\n",
              "      <td>அறத்துப்பால்</td>\n",
              "      <td>கடவுள் வாழ்த்து</td>\n",
              "      <td>கற்றதனால்\\tஆய\\tபயனென்கொல்\\tவாலறிவன்\\t\\t\\tநற்றா...</td>\n",
              "      <td>Translation :No fruit have men of all their st...</td>\n",
              "      <td>Explanation :What Profit have those derived fr...</td>\n",
              "    </tr>\n",
              "    <tr>\n",
              "      <th>2</th>\n",
              "      <td>அறத்துப்பால்</td>\n",
              "      <td>கடவுள் வாழ்த்து</td>\n",
              "      <td>மலர்மிசை\\tஏகினான்\\tமாணடி\\tசேர்ந்தார்\\t\\t\\tநிலம...</td>\n",
              "      <td>Translation :His feet, 'Who o'er the full-blow...</td>\n",
              "      <td>Explanation :They who are united to the glorio...</td>\n",
              "    </tr>\n",
              "    <tr>\n",
              "      <th>3</th>\n",
              "      <td>அறத்துப்பால்</td>\n",
              "      <td>கடவுள் வாழ்த்து</td>\n",
              "      <td>வேண்டுதல்\\tவேண்டாமை\\tஇலானடி\\tசேர்ந்தார்க்கு\\t\\...</td>\n",
              "      <td>Translation :His foot, 'Whom want affects not,...</td>\n",
              "      <td>Explanation :To those who meditate the feet of...</td>\n",
              "    </tr>\n",
              "    <tr>\n",
              "      <th>4</th>\n",
              "      <td>அறத்துப்பால்</td>\n",
              "      <td>கடவுள் வாழ்த்து</td>\n",
              "      <td>இருள்சேர்\\tஇருவினையும்\\tசேரா\\tஇறைவன்\\t\\t\\tபொரு...</td>\n",
              "      <td>Translation :The men, who on the 'King's' true...</td>\n",
              "      <td>Explanation :The two-fold deeds that spring fr...</td>\n",
              "    </tr>\n",
              "  </tbody>\n",
              "</table>\n",
              "</div>\n",
              "      <button class=\"colab-df-convert\" onclick=\"convertToInteractive('df-ce595923-50a1-49fd-89ea-be158277ebda')\"\n",
              "              title=\"Convert this dataframe to an interactive table.\"\n",
              "              style=\"display:none;\">\n",
              "        \n",
              "  <svg xmlns=\"http://www.w3.org/2000/svg\" height=\"24px\"viewBox=\"0 0 24 24\"\n",
              "       width=\"24px\">\n",
              "    <path d=\"M0 0h24v24H0V0z\" fill=\"none\"/>\n",
              "    <path d=\"M18.56 5.44l.94 2.06.94-2.06 2.06-.94-2.06-.94-.94-2.06-.94 2.06-2.06.94zm-11 1L8.5 8.5l.94-2.06 2.06-.94-2.06-.94L8.5 2.5l-.94 2.06-2.06.94zm10 10l.94 2.06.94-2.06 2.06-.94-2.06-.94-.94-2.06-.94 2.06-2.06.94z\"/><path d=\"M17.41 7.96l-1.37-1.37c-.4-.4-.92-.59-1.43-.59-.52 0-1.04.2-1.43.59L10.3 9.45l-7.72 7.72c-.78.78-.78 2.05 0 2.83L4 21.41c.39.39.9.59 1.41.59.51 0 1.02-.2 1.41-.59l7.78-7.78 2.81-2.81c.8-.78.8-2.07 0-2.86zM5.41 20L4 18.59l7.72-7.72 1.47 1.35L5.41 20z\"/>\n",
              "  </svg>\n",
              "      </button>\n",
              "      \n",
              "  <style>\n",
              "    .colab-df-container {\n",
              "      display:flex;\n",
              "      flex-wrap:wrap;\n",
              "      gap: 12px;\n",
              "    }\n",
              "\n",
              "    .colab-df-convert {\n",
              "      background-color: #E8F0FE;\n",
              "      border: none;\n",
              "      border-radius: 50%;\n",
              "      cursor: pointer;\n",
              "      display: none;\n",
              "      fill: #1967D2;\n",
              "      height: 32px;\n",
              "      padding: 0 0 0 0;\n",
              "      width: 32px;\n",
              "    }\n",
              "\n",
              "    .colab-df-convert:hover {\n",
              "      background-color: #E2EBFA;\n",
              "      box-shadow: 0px 1px 2px rgba(60, 64, 67, 0.3), 0px 1px 3px 1px rgba(60, 64, 67, 0.15);\n",
              "      fill: #174EA6;\n",
              "    }\n",
              "\n",
              "    [theme=dark] .colab-df-convert {\n",
              "      background-color: #3B4455;\n",
              "      fill: #D2E3FC;\n",
              "    }\n",
              "\n",
              "    [theme=dark] .colab-df-convert:hover {\n",
              "      background-color: #434B5C;\n",
              "      box-shadow: 0px 1px 3px 1px rgba(0, 0, 0, 0.15);\n",
              "      filter: drop-shadow(0px 1px 2px rgba(0, 0, 0, 0.3));\n",
              "      fill: #FFFFFF;\n",
              "    }\n",
              "  </style>\n",
              "\n",
              "      <script>\n",
              "        const buttonEl =\n",
              "          document.querySelector('#df-ce595923-50a1-49fd-89ea-be158277ebda button.colab-df-convert');\n",
              "        buttonEl.style.display =\n",
              "          google.colab.kernel.accessAllowed ? 'block' : 'none';\n",
              "\n",
              "        async function convertToInteractive(key) {\n",
              "          const element = document.querySelector('#df-ce595923-50a1-49fd-89ea-be158277ebda');\n",
              "          const dataTable =\n",
              "            await google.colab.kernel.invokeFunction('convertToInteractive',\n",
              "                                                     [key], {});\n",
              "          if (!dataTable) return;\n",
              "\n",
              "          const docLinkHtml = 'Like what you see? Visit the ' +\n",
              "            '<a target=\"_blank\" href=https://colab.research.google.com/notebooks/data_table.ipynb>data table notebook</a>'\n",
              "            + ' to learn more about interactive tables.';\n",
              "          element.innerHTML = '';\n",
              "          dataTable['output_type'] = 'display_data';\n",
              "          await google.colab.output.renderOutput(dataTable, element);\n",
              "          const docLink = document.createElement('div');\n",
              "          docLink.innerHTML = docLinkHtml;\n",
              "          element.appendChild(docLink);\n",
              "        }\n",
              "      </script>\n",
              "    </div>\n",
              "  </div>\n",
              "  "
            ],
            "text/plain": [
              "    Chapter Name  ...                                        Explanation\n",
              "0  அறத்துப்பால்   ...  Explanation :As all letters have the letter A ...\n",
              "1  அறத்துப்பால்   ...  Explanation :What Profit have those derived fr...\n",
              "2  அறத்துப்பால்   ...  Explanation :They who are united to the glorio...\n",
              "3  அறத்துப்பால்   ...  Explanation :To those who meditate the feet of...\n",
              "4  அறத்துப்பால்   ...  Explanation :The two-fold deeds that spring fr...\n",
              "\n",
              "[5 rows x 5 columns]"
            ]
          },
          "metadata": {},
          "execution_count": 13
        }
      ],
      "source": [
        "df.head()"
      ]
    },
    {
      "cell_type": "code",
      "execution_count": null,
      "metadata": {
        "colab": {
          "base_uri": "https://localhost:8080/"
        },
        "id": "72QtgHbMP-6p",
        "outputId": "b342bcc9-096e-4bb1-cb7b-612551164f63"
      },
      "outputs": [
        {
          "name": "stdout",
          "output_type": "stream",
          "text": [
            "There are 1330 rows and 4 columns\n"
          ]
        }
      ],
      "source": [
        "nRowsRead = 1330 # specify 'None' if want to read whole file\n",
        "# Thirukural With Explanation.csv has 1330 rows in reality, but we are only loading/previewing the first 1000 rows\n",
        "df1 = pd.read_csv('/content/Thirukural.csv', delimiter=',', nrows = nRowsRead)\n",
        "df1.dataframeName = 'Thirukural With Explanation.csv'\n",
        "nRow, nCol = df1.shape\n",
        "print(f'There are {nRow} rows and {nCol} columns')"
      ]
    },
    {
      "cell_type": "code",
      "execution_count": null,
      "metadata": {
        "colab": {
          "base_uri": "https://localhost:8080/",
          "height": 235
        },
        "id": "rakuE9PtQBzB",
        "outputId": "65924275-731c-4d58-dadc-01d3e1b9e8c2"
      },
      "outputs": [
        {
          "data": {
            "text/html": [
              "<div>\n",
              "<style scoped>\n",
              "    .dataframe tbody tr th:only-of-type {\n",
              "        vertical-align: middle;\n",
              "    }\n",
              "\n",
              "    .dataframe tbody tr th {\n",
              "        vertical-align: top;\n",
              "    }\n",
              "\n",
              "    .dataframe thead th {\n",
              "        text-align: right;\n",
              "    }\n",
              "</style>\n",
              "<table border=\"1\" class=\"dataframe\">\n",
              "  <thead>\n",
              "    <tr style=\"text-align: right;\">\n",
              "      <th></th>\n",
              "      <th>Chapter Name</th>\n",
              "      <th>Section Name</th>\n",
              "      <th>Verse</th>\n",
              "      <th>Translation</th>\n",
              "    </tr>\n",
              "  </thead>\n",
              "  <tbody>\n",
              "    <tr>\n",
              "      <th>1324</th>\n",
              "      <td>காமத்துப்பால்</td>\n",
              "      <td>ஊடலுவகை</td>\n",
              "      <td>தவறிலர்\\tஆயினும்\\tதாம்வீழ்வார்\\tமென்றோள்\\t\\t\\t...</td>\n",
              "      <td>Though free from fault, from loved one's tende...</td>\n",
              "    </tr>\n",
              "    <tr>\n",
              "      <th>1325</th>\n",
              "      <td>காமத்துப்பால்</td>\n",
              "      <td>ஊடலுவகை</td>\n",
              "      <td>உணலினும்\\tஉண்டது\\tஅறல்இனிது\\tகாமம்\\t\\t\\tபுணர்த...</td>\n",
              "      <td>'Tis sweeter to digest your food than 'tis to ...</td>\n",
              "    </tr>\n",
              "    <tr>\n",
              "      <th>1326</th>\n",
              "      <td>காமத்துப்பால்</td>\n",
              "      <td>ஊடலுவகை</td>\n",
              "      <td>ஊடலில்\\tதோற்றவர்\\tவென்றார்\\tஅதுமன்னும்\\t\\t\\tகூ...</td>\n",
              "      <td>In lovers' quarrels, 'tis the one that first g...</td>\n",
              "    </tr>\n",
              "    <tr>\n",
              "      <th>1327</th>\n",
              "      <td>காமத்துப்பால்</td>\n",
              "      <td>ஊடலுவகை</td>\n",
              "      <td>ஊடிப்\\tபெறுகுவம்\\tகொல்லோ\\tநுதல்வெயர்ப்பக்\\t\\t\\...</td>\n",
              "      <td>And shall we ever more the sweetness know of t...</td>\n",
              "    </tr>\n",
              "    <tr>\n",
              "      <th>1328</th>\n",
              "      <td>காமத்துப்பால்</td>\n",
              "      <td>ஊடலுவகை</td>\n",
              "      <td>ஊடுக\\tமன்னோ\\tஒளியிழை\\tயாமிரப்ப\\t\\t\\tநீடுக\\tமன்...</td>\n",
              "      <td>Let her, whose jewels brightly shine, aversion...</td>\n",
              "    </tr>\n",
              "    <tr>\n",
              "      <th>1329</th>\n",
              "      <td>காமத்துப்பால்</td>\n",
              "      <td>ஊடலுவகை</td>\n",
              "      <td>ஊடுதல்\\tகாமத்திற்கு\\tஇன்பம்\\tஅதற்கின்பம்\\t\\t\\t...</td>\n",
              "      <td>A 'feigned aversion' coy to pleasure gives a z...</td>\n",
              "    </tr>\n",
              "  </tbody>\n",
              "</table>\n",
              "</div>"
            ],
            "text/plain": [
              "        Chapter Name  ...                                        Translation\n",
              "1324  காமத்துப்பால்   ...  Though free from fault, from loved one's tende...\n",
              "1325  காமத்துப்பால்   ...  'Tis sweeter to digest your food than 'tis to ...\n",
              "1326  காமத்துப்பால்   ...  In lovers' quarrels, 'tis the one that first g...\n",
              "1327  காமத்துப்பால்   ...  And shall we ever more the sweetness know of t...\n",
              "1328  காமத்துப்பால்   ...  Let her, whose jewels brightly shine, aversion...\n",
              "1329  காமத்துப்பால்   ...  A 'feigned aversion' coy to pleasure gives a z...\n",
              "\n",
              "[6 rows x 4 columns]"
            ]
          },
          "execution_count": 21,
          "metadata": {},
          "output_type": "execute_result"
        }
      ],
      "source": [
        "df1.tail(6)"
      ]
    },
    {
      "cell_type": "code",
      "execution_count": null,
      "metadata": {
        "id": "_WYePQS-Qftp"
      },
      "outputs": [],
      "source": [
        ""
      ]
    },
    {
      "cell_type": "code",
      "execution_count": null,
      "metadata": {
        "id": "vDGhBn_LQffY"
      },
      "outputs": [],
      "source": [
        "# Histogram of column data\n",
        "def plotHistogram(df, nHistogramShown, nHistogramPerRow):\n",
        "    nunique = df.nunique()\n",
        "    df = df[[col for col in df if nunique[col] > 1 and nunique[col] < 50]] # For displaying purposes, pick columns that have between 1 and 50 unique values\n",
        "    nRow, nCol = df.shape\n",
        "    columnNames = list(df)\n",
        "    nHistRow = (nCol + nHistogramPerRow - 1) / nHistogramPerRow\n",
        "    plt.figure(num=None, figsize=(6*nHistogramPerRow, 8*nHistRow), dpi=80, facecolor='w', edgecolor='k')\n",
        "    for i in range(min(nCol, nHistogramShown)):\n",
        "        plt.subplot(nHistRow, nHistogramPerRow, i+1)\n",
        "        df.iloc[:,i].hist()\n",
        "        plt.ylabel('counts')\n",
        "        plt.xticks(rotation=90)\n",
        "        plt.title(f'{columnNames[i]} (column {i})')\n",
        "    plt.tight_layout(pad=1.0, w_pad=1.0, h_pad=1.0)\n",
        "    plt.show()"
      ]
    },
    {
      "cell_type": "code",
      "execution_count": null,
      "metadata": {
        "id": "TsEuES6OQipq"
      },
      "outputs": [],
      "source": [
        "# Correlation matrix\n",
        "def plotCorrelationMatrix(df, graphWidth):\n",
        "    filename = df.dataframeName\n",
        "    df = df.dropna('columns') # drop columns with NaN\n",
        "    df = df[[col for col in df if df[col].nunique() > 1]] # keep columns where there are more than 1 unique values\n",
        "    if df.shape[1] < 2:\n",
        "        print(f'No correlation plots shown: The number of non-NaN or constant columns ({df.shape[1]}) is less than 2')\n",
        "        return\n",
        "    corr = df.corr()\n",
        "    plt.figure(num=None, figsize=(graphWidth, graphWidth), dpi=80, facecolor='w', edgecolor='k')\n",
        "    corrMat = plt.matshow(corr, fignum = 1)\n",
        "    plt.xticks(range(len(corr.columns)), corr.columns, rotation=90)\n",
        "    plt.yticks(range(len(corr.columns)), corr.columns)\n",
        "    plt.gca().xaxis.tick_bottom()\n",
        "    plt.colorbar(corrMat)\n",
        "    plt.title(f'Correlation Matrix for {filename}', fontsize=15)\n",
        "    plt.show()"
      ]
    },
    {
      "cell_type": "code",
      "execution_count": null,
      "metadata": {
        "id": "q6blzuYtQmIX"
      },
      "outputs": [],
      "source": [
        "def plotScatterMatrix(df, plotSize, textSize):\n",
        "    df = df.select_dtypes(include =[np.number]) # keep only numerical columns\n",
        "    # Remove rows and columns that would lead to df being singular\n",
        "    df = df.dropna('columns')\n",
        "    df = df[[col for col in df if df[col].nunique() > 1]] # keep columns where there are more than 1 unique values\n",
        "    columnNames = list(df)\n",
        "    if len(columnNames) > 10: # reduce the number of columns for matrix inversion of kernel density plots\n",
        "        columnNames = columnNames[:10]\n",
        "    df = df[columnNames]\n",
        "    ax = pd.plotting.scatter_matrix(df, alpha=0.75, figsize=[plotSize, plotSize], diagonal='kde')\n",
        "    corrs = df.corr().values\n",
        "    for i, j in zip(*plt.np.triu_indices_from(ax, k = 1)):\n",
        "        ax[i, j].annotate('Corr. coef = %.3f' % corrs[i, j], (0.8, 0.2), xycoords='axes fraction', ha='center', va='center', size=textSize)\n",
        "    plt.suptitle('Scatter and Density Plot')\n",
        "    plt.show()"
      ]
    },
    {
      "cell_type": "code",
      "execution_count": null,
      "metadata": {
        "colab": {
          "base_uri": "https://localhost:8080/",
          "height": 1000
        },
        "id": "l0r_Oj_MQRjr",
        "outputId": "44be8979-7ffd-43d3-c471-d2dac2816c10"
      },
      "outputs": [
        {
          "name": "stderr",
          "output_type": "stream",
          "text": [
            "/usr/local/lib/python3.7/dist-packages/matplotlib/backends/backend_agg.py:214: RuntimeWarning: Glyph 2949 missing from current font.\n",
            "  font.set_text(s, 0.0, flags=flags)\n",
            "/usr/local/lib/python3.7/dist-packages/matplotlib/backends/backend_agg.py:214: RuntimeWarning: Glyph 2993 missing from current font.\n",
            "  font.set_text(s, 0.0, flags=flags)\n",
            "/usr/local/lib/python3.7/dist-packages/matplotlib/backends/backend_agg.py:214: RuntimeWarning: Glyph 2980 missing from current font.\n",
            "  font.set_text(s, 0.0, flags=flags)\n",
            "/usr/local/lib/python3.7/dist-packages/matplotlib/backends/backend_agg.py:214: RuntimeWarning: Glyph 3021 missing from current font.\n",
            "  font.set_text(s, 0.0, flags=flags)\n",
            "/usr/local/lib/python3.7/dist-packages/matplotlib/backends/backend_agg.py:214: RuntimeWarning: Glyph 3009 missing from current font.\n",
            "  font.set_text(s, 0.0, flags=flags)\n",
            "/usr/local/lib/python3.7/dist-packages/matplotlib/backends/backend_agg.py:214: RuntimeWarning: Glyph 2986 missing from current font.\n",
            "  font.set_text(s, 0.0, flags=flags)\n",
            "/usr/local/lib/python3.7/dist-packages/matplotlib/backends/backend_agg.py:214: RuntimeWarning: Glyph 3006 missing from current font.\n",
            "  font.set_text(s, 0.0, flags=flags)\n",
            "/usr/local/lib/python3.7/dist-packages/matplotlib/backends/backend_agg.py:214: RuntimeWarning: Glyph 2994 missing from current font.\n",
            "  font.set_text(s, 0.0, flags=flags)\n",
            "/usr/local/lib/python3.7/dist-packages/matplotlib/backends/backend_agg.py:214: RuntimeWarning: Glyph 3018 missing from current font.\n",
            "  font.set_text(s, 0.0, flags=flags)\n",
            "/usr/local/lib/python3.7/dist-packages/matplotlib/backends/backend_agg.py:214: RuntimeWarning: Glyph 2992 missing from current font.\n",
            "  font.set_text(s, 0.0, flags=flags)\n",
            "/usr/local/lib/python3.7/dist-packages/matplotlib/backends/backend_agg.py:214: RuntimeWarning: Glyph 2975 missing from current font.\n",
            "  font.set_text(s, 0.0, flags=flags)\n",
            "/usr/local/lib/python3.7/dist-packages/matplotlib/backends/backend_agg.py:183: RuntimeWarning: Glyph 2949 missing from current font.\n",
            "  font.set_text(s, 0, flags=flags)\n",
            "/usr/local/lib/python3.7/dist-packages/matplotlib/backends/backend_agg.py:183: RuntimeWarning: Glyph 2993 missing from current font.\n",
            "  font.set_text(s, 0, flags=flags)\n",
            "/usr/local/lib/python3.7/dist-packages/matplotlib/backends/backend_agg.py:183: RuntimeWarning: Glyph 2980 missing from current font.\n",
            "  font.set_text(s, 0, flags=flags)\n",
            "/usr/local/lib/python3.7/dist-packages/matplotlib/backends/backend_agg.py:183: RuntimeWarning: Glyph 3021 missing from current font.\n",
            "  font.set_text(s, 0, flags=flags)\n",
            "/usr/local/lib/python3.7/dist-packages/matplotlib/backends/backend_agg.py:183: RuntimeWarning: Glyph 3009 missing from current font.\n",
            "  font.set_text(s, 0, flags=flags)\n",
            "/usr/local/lib/python3.7/dist-packages/matplotlib/backends/backend_agg.py:183: RuntimeWarning: Glyph 2986 missing from current font.\n",
            "  font.set_text(s, 0, flags=flags)\n",
            "/usr/local/lib/python3.7/dist-packages/matplotlib/backends/backend_agg.py:183: RuntimeWarning: Glyph 3006 missing from current font.\n",
            "  font.set_text(s, 0, flags=flags)\n",
            "/usr/local/lib/python3.7/dist-packages/matplotlib/backends/backend_agg.py:183: RuntimeWarning: Glyph 2994 missing from current font.\n",
            "  font.set_text(s, 0, flags=flags)\n",
            "/usr/local/lib/python3.7/dist-packages/matplotlib/backends/backend_agg.py:183: RuntimeWarning: Glyph 3018 missing from current font.\n",
            "  font.set_text(s, 0, flags=flags)\n",
            "/usr/local/lib/python3.7/dist-packages/matplotlib/backends/backend_agg.py:183: RuntimeWarning: Glyph 2992 missing from current font.\n",
            "  font.set_text(s, 0, flags=flags)\n",
            "/usr/local/lib/python3.7/dist-packages/matplotlib/backends/backend_agg.py:183: RuntimeWarning: Glyph 2975 missing from current font.\n",
            "  font.set_text(s, 0, flags=flags)\n"
          ]
        },
        {
          "data": {
            "image/png": "[encoded data removed]",
            "text/plain": [
              "<Figure size 2400x640 with 1 Axes>"
            ]
          },
          "metadata": {},
          "output_type": "display_data"
        }
      ],
      "source": [
        "plotHistogram(df1, 10, 5)"
      ]
    },
    {
      "cell_type": "code",
      "execution_count": null,
      "metadata": {
        "id": "Jtuje5GgQXqG"
      },
      "outputs": [],
      "source": [
        ""
      ]
    },
    {
      "cell_type": "markdown",
      "metadata": {
        "id": "SovTog_iRByY"
      },
      "source": [
        "# Reference Links :\n",
        " - https://www.kaggle.com/christya/predictive-analyzers\n",
        " - https://api-thirukkural.web.app/\n",
        "\n"
      ]
    },
    {
      "cell_type": "code",
      "execution_count": null,
      "metadata": {
        "colab": {
          "base_uri": "https://localhost:8080/"
        },
        "id": "G8G0XQ7ZSVhA",
        "outputId": "3026221c-d299-4073-ce81-3f0b6ec39c03"
      },
      "outputs": [
        {
          "name": "stdout",
          "output_type": "stream",
          "text": [
            "--2021-09-06 08:46:24--  https://api-thirukkural.vercel.app/api?num=1\n",
            "Resolving api-thirukkural.vercel.app (api-thirukkural.vercel.app)... 76.76.21.21\n",
            "Connecting to api-thirukkural.vercel.app (api-thirukkural.vercel.app)|76.76.21.21|:443... connected.\n",
            "HTTP request sent, awaiting response... 200 OK\n",
            "Length: 785 [text/html]\n",
            "Saving to: ‘api?num=1’\n",
            "\n",
            "api?num=1           100%[===================>]     785  --.-KB/s    in 0s      \n",
            "\n",
            "2021-09-06 08:46:25 (123 MB/s) - ‘api?num=1’ saved [785/785]\n",
            "\n"
          ]
        }
      ],
      "source": [
        "!wget https://api-thirukkural.vercel.app/api?num=1\n"
      ]
    },
    {
      "cell_type": "code",
      "execution_count": null,
      "metadata": {
        "id": "qM4igu4qSX23"
      },
      "outputs": [],
      "source": [
        "a = '/content/api?num=1'"
      ]
    },
    {
      "cell_type": "code",
      "execution_count": null,
      "metadata": {
        "colab": {
          "base_uri": "https://localhost:8080/"
        },
        "id": "Cf5QcbESSeaU",
        "outputId": "5a3d5219-af17-4ded-d3d4-ab8e2d26c823"
      },
      "outputs": [
        {
          "name": "stdout",
          "output_type": "stream",
          "text": [
            "--2021-10-12 15:39:14--  https://api-thirukkural.vercel.app/api?num=1\n",
            "Resolving api-thirukkural.vercel.app (api-thirukkural.vercel.app)... 76.76.21.21\n",
            "Connecting to api-thirukkural.vercel.app (api-thirukkural.vercel.app)|76.76.21.21|:443... connected.\n",
            "HTTP request sent, awaiting response... 200 OK\n",
            "Length: 785 [text/html]\n",
            "Saving to: ‘STDOUT’\n",
            "\n",
            "-                   100%[===================>]     785  --.-KB/s    in 0s      \n",
            "\n",
            "2021-10-12 15:39:16 (133 MB/s) - written to stdout [785/785]\n",
            "\n"
          ]
        }
      ],
      "source": [
        "!wget 'https://api-thirukkural.vercel.app/api?num=1' -O - >> hi.json"
      ]
    },
    {
      "cell_type": "code",
      "execution_count": null,
      "metadata": {
        "colab": {
          "base_uri": "https://localhost:8080/",
          "height": 370
        },
        "id": "kmY8B226TULr",
        "outputId": "61b4b47c-320c-4591-95d1-9845b91d0e39"
      },
      "outputs": [
        {
          "ename": "ValueError",
          "evalue": "ignored",
          "output_type": "error",
          "traceback": [
            "\u001b[0;31m---------------------------------------------------------------------------\u001b[0m",
            "\u001b[0;31mValueError\u001b[0m                                Traceback (most recent call last)",
            "\u001b[0;32m<ipython-input-36-abfe0194b6a9>\u001b[0m in \u001b[0;36m<module>\u001b[0;34m()\u001b[0m\n\u001b[1;32m      5\u001b[0m \u001b[0;31m#jdata = json.loads(jsondata)\u001b[0m\u001b[0;34m\u001b[0m\u001b[0;34m\u001b[0m\u001b[0;34m\u001b[0m\u001b[0m\n\u001b[1;32m      6\u001b[0m \u001b[0;31m#df = pd.DataFrame(jdata)\u001b[0m\u001b[0;34m\u001b[0m\u001b[0;34m\u001b[0m\u001b[0;34m\u001b[0m\u001b[0m\n\u001b[0;32m----> 7\u001b[0;31m \u001b[0mdf\u001b[0m \u001b[0;34m=\u001b[0m \u001b[0mpd\u001b[0m\u001b[0;34m.\u001b[0m\u001b[0mDataFrame\u001b[0m\u001b[0;34m.\u001b[0m\u001b[0mfrom_dict\u001b[0m\u001b[0;34m(\u001b[0m\u001b[0mjsondata\u001b[0m\u001b[0;34m,\u001b[0m \u001b[0morient\u001b[0m\u001b[0;34m=\u001b[0m\u001b[0;34m'columns'\u001b[0m\u001b[0;34m)\u001b[0m\u001b[0;34m\u001b[0m\u001b[0;34m\u001b[0m\u001b[0m\n\u001b[0m\u001b[1;32m      8\u001b[0m \u001b[0;31m#print(df.T)\u001b[0m\u001b[0;34m\u001b[0m\u001b[0;34m\u001b[0m\u001b[0;34m\u001b[0m\u001b[0m\n",
            "\u001b[0;32m/usr/local/lib/python3.7/dist-packages/pandas/core/frame.py\u001b[0m in \u001b[0;36mfrom_dict\u001b[0;34m(cls, data, orient, dtype, columns)\u001b[0m\n\u001b[1;32m   1307\u001b[0m             \u001b[0;32mraise\u001b[0m \u001b[0mValueError\u001b[0m\u001b[0;34m(\u001b[0m\u001b[0;34m\"only recognize index or columns for orient\"\u001b[0m\u001b[0;34m)\u001b[0m\u001b[0;34m\u001b[0m\u001b[0;34m\u001b[0m\u001b[0m\n\u001b[1;32m   1308\u001b[0m \u001b[0;34m\u001b[0m\u001b[0m\n\u001b[0;32m-> 1309\u001b[0;31m         \u001b[0;32mreturn\u001b[0m \u001b[0mcls\u001b[0m\u001b[0;34m(\u001b[0m\u001b[0mdata\u001b[0m\u001b[0;34m,\u001b[0m \u001b[0mindex\u001b[0m\u001b[0;34m=\u001b[0m\u001b[0mindex\u001b[0m\u001b[0;34m,\u001b[0m \u001b[0mcolumns\u001b[0m\u001b[0;34m=\u001b[0m\u001b[0mcolumns\u001b[0m\u001b[0;34m,\u001b[0m \u001b[0mdtype\u001b[0m\u001b[0;34m=\u001b[0m\u001b[0mdtype\u001b[0m\u001b[0;34m)\u001b[0m\u001b[0;34m\u001b[0m\u001b[0;34m\u001b[0m\u001b[0m\n\u001b[0m\u001b[1;32m   1310\u001b[0m \u001b[0;34m\u001b[0m\u001b[0m\n\u001b[1;32m   1311\u001b[0m     def to_numpy(\n",
            "\u001b[0;32m/usr/local/lib/python3.7/dist-packages/pandas/core/frame.py\u001b[0m in \u001b[0;36m__init__\u001b[0;34m(self, data, index, columns, dtype, copy)\u001b[0m\n\u001b[1;32m    466\u001b[0m \u001b[0;34m\u001b[0m\u001b[0m\n\u001b[1;32m    467\u001b[0m         \u001b[0;32melif\u001b[0m \u001b[0misinstance\u001b[0m\u001b[0;34m(\u001b[0m\u001b[0mdata\u001b[0m\u001b[0;34m,\u001b[0m \u001b[0mdict\u001b[0m\u001b[0;34m)\u001b[0m\u001b[0;34m:\u001b[0m\u001b[0;34m\u001b[0m\u001b[0;34m\u001b[0m\u001b[0m\n\u001b[0;32m--> 468\u001b[0;31m             \u001b[0mmgr\u001b[0m \u001b[0;34m=\u001b[0m \u001b[0minit_dict\u001b[0m\u001b[0;34m(\u001b[0m\u001b[0mdata\u001b[0m\u001b[0;34m,\u001b[0m \u001b[0mindex\u001b[0m\u001b[0;34m,\u001b[0m \u001b[0mcolumns\u001b[0m\u001b[0;34m,\u001b[0m \u001b[0mdtype\u001b[0m\u001b[0;34m=\u001b[0m\u001b[0mdtype\u001b[0m\u001b[0;34m)\u001b[0m\u001b[0;34m\u001b[0m\u001b[0;34m\u001b[0m\u001b[0m\n\u001b[0m\u001b[1;32m    469\u001b[0m         \u001b[0;32melif\u001b[0m \u001b[0misinstance\u001b[0m\u001b[0;34m(\u001b[0m\u001b[0mdata\u001b[0m\u001b[0;34m,\u001b[0m \u001b[0mma\u001b[0m\u001b[0;34m.\u001b[0m\u001b[0mMaskedArray\u001b[0m\u001b[0;34m)\u001b[0m\u001b[0;34m:\u001b[0m\u001b[0;34m\u001b[0m\u001b[0;34m\u001b[0m\u001b[0m\n\u001b[1;32m    470\u001b[0m             \u001b[0;32mimport\u001b[0m \u001b[0mnumpy\u001b[0m\u001b[0;34m.\u001b[0m\u001b[0mma\u001b[0m\u001b[0;34m.\u001b[0m\u001b[0mmrecords\u001b[0m \u001b[0;32mas\u001b[0m \u001b[0mmrecords\u001b[0m\u001b[0;34m\u001b[0m\u001b[0;34m\u001b[0m\u001b[0m\n",
            "\u001b[0;32m/usr/local/lib/python3.7/dist-packages/pandas/core/internals/construction.py\u001b[0m in \u001b[0;36minit_dict\u001b[0;34m(data, index, columns, dtype)\u001b[0m\n\u001b[1;32m    281\u001b[0m             \u001b[0marr\u001b[0m \u001b[0;32mif\u001b[0m \u001b[0;32mnot\u001b[0m \u001b[0mis_datetime64tz_dtype\u001b[0m\u001b[0;34m(\u001b[0m\u001b[0marr\u001b[0m\u001b[0;34m)\u001b[0m \u001b[0;32melse\u001b[0m \u001b[0marr\u001b[0m\u001b[0;34m.\u001b[0m\u001b[0mcopy\u001b[0m\u001b[0;34m(\u001b[0m\u001b[0;34m)\u001b[0m \u001b[0;32mfor\u001b[0m \u001b[0marr\u001b[0m \u001b[0;32min\u001b[0m \u001b[0marrays\u001b[0m\u001b[0;34m\u001b[0m\u001b[0;34m\u001b[0m\u001b[0m\n\u001b[1;32m    282\u001b[0m         ]\n\u001b[0;32m--> 283\u001b[0;31m     \u001b[0;32mreturn\u001b[0m \u001b[0marrays_to_mgr\u001b[0m\u001b[0;34m(\u001b[0m\u001b[0marrays\u001b[0m\u001b[0;34m,\u001b[0m \u001b[0mdata_names\u001b[0m\u001b[0;34m,\u001b[0m \u001b[0mindex\u001b[0m\u001b[0;34m,\u001b[0m \u001b[0mcolumns\u001b[0m\u001b[0;34m,\u001b[0m \u001b[0mdtype\u001b[0m\u001b[0;34m=\u001b[0m\u001b[0mdtype\u001b[0m\u001b[0;34m)\u001b[0m\u001b[0;34m\u001b[0m\u001b[0;34m\u001b[0m\u001b[0m\n\u001b[0m\u001b[1;32m    284\u001b[0m \u001b[0;34m\u001b[0m\u001b[0m\n\u001b[1;32m    285\u001b[0m \u001b[0;34m\u001b[0m\u001b[0m\n",
            "\u001b[0;32m/usr/local/lib/python3.7/dist-packages/pandas/core/internals/construction.py\u001b[0m in \u001b[0;36marrays_to_mgr\u001b[0;34m(arrays, arr_names, index, columns, dtype, verify_integrity)\u001b[0m\n\u001b[1;32m     76\u001b[0m         \u001b[0;31m# figure out the index, if necessary\u001b[0m\u001b[0;34m\u001b[0m\u001b[0;34m\u001b[0m\u001b[0;34m\u001b[0m\u001b[0m\n\u001b[1;32m     77\u001b[0m         \u001b[0;32mif\u001b[0m \u001b[0mindex\u001b[0m \u001b[0;32mis\u001b[0m \u001b[0;32mNone\u001b[0m\u001b[0;34m:\u001b[0m\u001b[0;34m\u001b[0m\u001b[0;34m\u001b[0m\u001b[0m\n\u001b[0;32m---> 78\u001b[0;31m             \u001b[0mindex\u001b[0m \u001b[0;34m=\u001b[0m \u001b[0mextract_index\u001b[0m\u001b[0;34m(\u001b[0m\u001b[0marrays\u001b[0m\u001b[0;34m)\u001b[0m\u001b[0;34m\u001b[0m\u001b[0;34m\u001b[0m\u001b[0m\n\u001b[0m\u001b[1;32m     79\u001b[0m         \u001b[0;32melse\u001b[0m\u001b[0;34m:\u001b[0m\u001b[0;34m\u001b[0m\u001b[0;34m\u001b[0m\u001b[0m\n\u001b[1;32m     80\u001b[0m             \u001b[0mindex\u001b[0m \u001b[0;34m=\u001b[0m \u001b[0mensure_index\u001b[0m\u001b[0;34m(\u001b[0m\u001b[0mindex\u001b[0m\u001b[0;34m)\u001b[0m\u001b[0;34m\u001b[0m\u001b[0;34m\u001b[0m\u001b[0m\n",
            "\u001b[0;32m/usr/local/lib/python3.7/dist-packages/pandas/core/internals/construction.py\u001b[0m in \u001b[0;36mextract_index\u001b[0;34m(data)\u001b[0m\n\u001b[1;32m    385\u001b[0m \u001b[0;34m\u001b[0m\u001b[0m\n\u001b[1;32m    386\u001b[0m         \u001b[0;32mif\u001b[0m \u001b[0;32mnot\u001b[0m \u001b[0mindexes\u001b[0m \u001b[0;32mand\u001b[0m \u001b[0;32mnot\u001b[0m \u001b[0mraw_lengths\u001b[0m\u001b[0;34m:\u001b[0m\u001b[0;34m\u001b[0m\u001b[0;34m\u001b[0m\u001b[0m\n\u001b[0;32m--> 387\u001b[0;31m             \u001b[0;32mraise\u001b[0m \u001b[0mValueError\u001b[0m\u001b[0;34m(\u001b[0m\u001b[0;34m\"If using all scalar values, you must pass an index\"\u001b[0m\u001b[0;34m)\u001b[0m\u001b[0;34m\u001b[0m\u001b[0;34m\u001b[0m\u001b[0m\n\u001b[0m\u001b[1;32m    388\u001b[0m \u001b[0;34m\u001b[0m\u001b[0m\n\u001b[1;32m    389\u001b[0m         \u001b[0;32mif\u001b[0m \u001b[0mhave_series\u001b[0m\u001b[0;34m:\u001b[0m\u001b[0;34m\u001b[0m\u001b[0;34m\u001b[0m\u001b[0m\n",
            "\u001b[0;31mValueError\u001b[0m: If using all scalar values, you must pass an index"
          ]
        }
      ],
      "source": [
        "jsondata = {\"number\":1,\"sect_tam\":\"அறத்துப்பால்\",\"chapgrp_tam\":\"பாயிரவியல்\",\"chap_tam\":\"கடவுள் வாழ்த்து\",\"line1\":\"அகர முதல எழுத்தெல்லாம் ஆதி\",\"line2\":\"பகவன் முதற்றே உலகு.\",\"tam_exp\":\"அகரம் எழுத்துக்களுக்கு முதன்மை; ஆதிபகவன், உலகில் வாழும் உயிர்களுக்கு முதன்மை\",\"sect_eng\":\"Virtue\",\"chapgrp_eng\":\"Prologue\",\"chap_eng\":\"The Praise of God\",\"eng\":\"'A' leads letters; the Ancient Lord Leads and lords the entire world\",\"eng_exp\":\"As the letter A is the first of all letters, so the eternal God is first in the world\"}\n",
        "import json\n",
        "import pandas as pd\n",
        "\n",
        "#jdata = json.loads(jsondata)\n",
        "#df = pd.DataFrame(jdata)\n",
        "df = pd.DataFrame.from_dict(jsondata, orient='columns')\n",
        "#print(df.T)"
      ]
    },
    {
      "cell_type": "code",
      "execution_count": null,
      "metadata": {
        "id": "5yjx0BwVTdrB"
      },
      "outputs": [],
      "source": [
        "df = pd.DataFrame.from_records([jsondata],index='number')"
      ]
    },
    {
      "cell_type": "code",
      "execution_count": null,
      "metadata": {
        "colab": {
          "base_uri": "https://localhost:8080/",
          "height": 131
        },
        "id": "EphhlNgMWoIi",
        "outputId": "a76997ac-93bf-4916-9afe-1d82447372b9"
      },
      "outputs": [
        {
          "data": {
            "text/html": [
              "<div>\n",
              "<style scoped>\n",
              "    .dataframe tbody tr th:only-of-type {\n",
              "        vertical-align: middle;\n",
              "    }\n",
              "\n",
              "    .dataframe tbody tr th {\n",
              "        vertical-align: top;\n",
              "    }\n",
              "\n",
              "    .dataframe thead th {\n",
              "        text-align: right;\n",
              "    }\n",
              "</style>\n",
              "<table border=\"1\" class=\"dataframe\">\n",
              "  <thead>\n",
              "    <tr style=\"text-align: right;\">\n",
              "      <th></th>\n",
              "      <th>number</th>\n",
              "      <th>sect_tam</th>\n",
              "      <th>chapgrp_tam</th>\n",
              "      <th>chap_tam</th>\n",
              "      <th>line1</th>\n",
              "      <th>line2</th>\n",
              "      <th>tam_exp</th>\n",
              "      <th>sect_eng</th>\n",
              "      <th>chapgrp_eng</th>\n",
              "      <th>chap_eng</th>\n",
              "      <th>eng</th>\n",
              "      <th>eng_exp</th>\n",
              "    </tr>\n",
              "  </thead>\n",
              "  <tbody>\n",
              "    <tr>\n",
              "      <th>0</th>\n",
              "      <td>1</td>\n",
              "      <td>அறத்துப்பால்</td>\n",
              "      <td>பாயிரவியல்</td>\n",
              "      <td>கடவுள் வாழ்த்து</td>\n",
              "      <td>அகர முதல எழுத்தெல்லாம் ஆதி</td>\n",
              "      <td>பகவன் முதற்றே உலகு.</td>\n",
              "      <td>அகரம் எழுத்துக்களுக்கு முதன்மை; ஆதிபகவன், உலகி...</td>\n",
              "      <td>Virtue</td>\n",
              "      <td>Prologue</td>\n",
              "      <td>The Praise of God</td>\n",
              "      <td>'A' leads letters; the Ancient Lord Leads and ...</td>\n",
              "      <td>As the letter A is the first of all letters, s...</td>\n",
              "    </tr>\n",
              "  </tbody>\n",
              "</table>\n",
              "</div>"
            ],
            "text/plain": [
              "   number  ...                                            eng_exp\n",
              "0       1  ...  As the letter A is the first of all letters, s...\n",
              "\n",
              "[1 rows x 12 columns]"
            ]
          },
          "execution_count": 49,
          "metadata": {},
          "output_type": "execute_result"
        }
      ],
      "source": [
        "pd.DataFrame([jsondata])"
      ]
    },
    {
      "cell_type": "code",
      "execution_count": null,
      "metadata": {
        "colab": {
          "base_uri": "https://localhost:8080/",
          "height": 168
        },
        "id": "yJRtOQhbYTZv",
        "outputId": "a6152847-eea5-408a-a4db-c4fc2275da7f"
      },
      "outputs": [
        {
          "ename": "TypeError",
          "evalue": "ignored",
          "output_type": "error",
          "traceback": [
            "\u001b[0;31m---------------------------------------------------------------------------\u001b[0m",
            "\u001b[0;31mTypeError\u001b[0m                                 Traceback (most recent call last)",
            "\u001b[0;32m<ipython-input-48-fac9ceb46e1d>\u001b[0m in \u001b[0;36m<module>\u001b[0;34m()\u001b[0m\n\u001b[0;32m----> 1\u001b[0;31m \u001b[0me1\u001b[0m\u001b[0;34m.\u001b[0m\u001b[0mshape\u001b[0m\u001b[0;34m(\u001b[0m\u001b[0;34m)\u001b[0m\u001b[0;34m\u001b[0m\u001b[0;34m\u001b[0m\u001b[0m\n\u001b[0m",
            "\u001b[0;31mTypeError\u001b[0m: 'tuple' object is not callable"
          ]
        }
      ],
      "source": [
        ""
      ]
    },
    {
      "cell_type": "code",
      "execution_count": null,
      "metadata": {
        "id": "GYN3mF24YpUQ"
      },
      "outputs": [],
      "source": [
        ""
      ]
    },
    {
      "cell_type": "markdown",
      "metadata": {
        "id": "7mROAYu3Nyym"
      },
      "source": [
        "# Tamil Word Embedding\n"
      ]
    },
    {
      "cell_type": "markdown",
      "metadata": {
        "id": "_Zo261G2snI0"
      },
      "source": [
        "https://fasttext.cc/docs/en/crawl-vectors.html"
      ]
    },
    {
      "cell_type": "code",
      "execution_count": null,
      "metadata": {
        "colab": {
          "base_uri": "https://localhost:8080/"
        },
        "id": "VzJfn_lGOSsw",
        "outputId": "0d5481f7-5b3e-4316-e1e0-2fbaf5e730f7"
      },
      "outputs": [
        {
          "name": "stdout",
          "output_type": "stream",
          "text": [
            "Collecting fasttext\n",
            "  Downloading fasttext-0.9.2.tar.gz (68 kB)\n",
            "\u001b[?25l\r\u001b[K     |████▊                           | 10 kB 26.0 MB/s eta 0:00:01\r\u001b[K     |█████████▌                      | 20 kB 22.5 MB/s eta 0:00:01\r\u001b[K     |██████████████▎                 | 30 kB 11.1 MB/s eta 0:00:01\r\u001b[K     |███████████████████             | 40 kB 8.9 MB/s eta 0:00:01\r\u001b[K     |███████████████████████▉        | 51 kB 5.1 MB/s eta 0:00:01\r\u001b[K     |████████████████████████████▋   | 61 kB 5.5 MB/s eta 0:00:01\r\u001b[K     |████████████████████████████████| 68 kB 3.3 MB/s \n",
            "\u001b[?25hCollecting pybind11>=2.2\n",
            "  Using cached pybind11-2.8.1-py2.py3-none-any.whl (208 kB)\n",
            "Requirement already satisfied: setuptools>=0.7.0 in /usr/local/lib/python3.7/dist-packages (from fasttext) (57.4.0)\n",
            "Requirement already satisfied: numpy in /usr/local/lib/python3.7/dist-packages (from fasttext) (1.19.5)\n",
            "Building wheels for collected packages: fasttext\n",
            "  Building wheel for fasttext (setup.py) ... \u001b[?25l\u001b[?25hdone\n",
            "  Created wheel for fasttext: filename=fasttext-0.9.2-cp37-cp37m-linux_x86_64.whl size=3121280 sha256=7744ec9502dfde0e022f4cf8d4be20341a900cf349497324be6314c2a680cff1\n",
            "  Stored in directory: /root/.cache/pip/wheels/4e/ca/bf/b020d2be95f7641801a6597a29c8f4f19e38f9c02a345bab9b\n",
            "Successfully built fasttext\n",
            "Installing collected packages: pybind11, fasttext\n",
            "Successfully installed fasttext-0.9.2 pybind11-2.8.1\n"
          ]
        }
      ],
      "source": [
        "!pip install fasttext"
      ]
    },
    {
      "cell_type": "code",
      "execution_count": null,
      "metadata": {
        "id": "QjSrcI53N86c"
      },
      "outputs": [],
      "source": [
        "import fasttext.util"
      ]
    },
    {
      "cell_type": "code",
      "execution_count": null,
      "metadata": {
        "colab": {
          "base_uri": "https://localhost:8080/",
          "height": 69
        },
        "id": "3fkr7NGpO_2S",
        "outputId": "a713ce37-775b-4a6d-c759-2fe5b1fe580e"
      },
      "outputs": [
        {
          "name": "stdout",
          "output_type": "stream",
          "text": [
            "Downloading https://dl.fbaipublicfiles.com/fasttext/vectors-crawl/cc.ta.300.bin.gz\n",
            "\n"
          ]
        },
        {
          "data": {
            "application/vnd.google.colaboratory.intrinsic+json": {
              "type": "string"
            },
            "text/plain": [
              "'cc.ta.300.bin'"
            ]
          },
          "execution_count": 3,
          "metadata": {},
          "output_type": "execute_result"
        }
      ],
      "source": [
        "fasttext.util.download_model('ta',if_exists='ignore')"
      ]
    },
    {
      "cell_type": "code",
      "execution_count": null,
      "metadata": {
        "colab": {
          "base_uri": "https://localhost:8080/"
        },
        "id": "UzF5gmrjPZ7R",
        "outputId": "397db280-82ad-494f-e60b-19633d41d0fd"
      },
      "outputs": [
        {
          "name": "stdout",
          "output_type": "stream",
          "text": [
            "--2021-10-28 14:16:13--  https://dl.fbaipublicfiles.com/fasttext/vectors-crawl/cc.ta.300.vec.gz\n",
            "Resolving dl.fbaipublicfiles.com (dl.fbaipublicfiles.com)... 172.67.9.4, 104.22.75.142, 104.22.74.142, ...\n",
            "Connecting to dl.fbaipublicfiles.com (dl.fbaipublicfiles.com)|172.67.9.4|:443... connected.\n",
            "HTTP request sent, awaiting response... 200 OK\n",
            "Length: 1213735937 (1.1G) [binary/octet-stream]\n",
            "Saving to: ‘cc.ta.300.vec.gz’\n",
            "\n",
            "cc.ta.300.vec.gz    100%[===================>]   1.13G  22.1MB/s    in 55s     \n",
            "\n",
            "2021-10-28 14:17:09 (21.1 MB/s) - ‘cc.ta.300.vec.gz’ saved [1213735937/1213735937]\n",
            "\n"
          ]
        }
      ],
      "source": [
        "!wget https://dl.fbaipublicfiles.com/fasttext/vectors-crawl/cc.ta.300.vec.gz"
      ]
    },
    {
      "cell_type": "markdown",
      "metadata": {
        "id": "LRVDgjO2st1R"
      },
      "source": [
        "Downloaded file is in drive..."
      ]
    },
    {
      "cell_type": "code",
      "execution_count": null,
      "metadata": {
        "colab": {
          "base_uri": "https://localhost:8080/"
        },
        "id": "4qYnvbBdORbK",
        "outputId": "ec90adb3-3511-497e-84b3-b8e08ed4dd47"
      },
      "outputs": [
        {
          "name": "stderr",
          "output_type": "stream",
          "text": [
            "Warning : `load_model` does not return WordVectorModel or SupervisedModel any more, but a `FastText` object which is very similar.\n"
          ]
        }
      ],
      "source": [
        "ft = fasttext.load_model('cc.ta.300.bin')"
      ]
    },
    {
      "cell_type": "code",
      "execution_count": null,
      "metadata": {
        "colab": {
          "base_uri": "https://localhost:8080/"
        },
        "id": "sJ9PYeahO2vT",
        "outputId": "e4d3ea9e-22e4-46e0-91b1-ac549ca5f9f9"
      },
      "outputs": [
        {
          "data": {
            "text/plain": [
              "300"
            ]
          },
          "execution_count": 5,
          "metadata": {},
          "output_type": "execute_result"
        }
      ],
      "source": [
        "ft.get_dimension()"
      ]
    },
    {
      "cell_type": "code",
      "execution_count": null,
      "metadata": {
        "id": "rVNYLuM6bYY0"
      },
      "outputs": [],
      "source": [
        "fasttext.util.reduce_model(ft,100)"
      ]
    },
    {
      "cell_type": "code",
      "execution_count": null,
      "metadata": {
        "colab": {
          "base_uri": "https://localhost:8080/"
        },
        "id": "rYwTTnLlbwEf",
        "outputId": "e1957396-c90a-4b10-d32b-5bcfcf70576e"
      },
      "outputs": [
        {
          "data": {
            "text/plain": [
              "(300,)"
            ]
          },
          "execution_count": 16,
          "metadata": {},
          "output_type": "execute_result"
        }
      ],
      "source": [
        "ft.get_word_vector('திருக்குறள்').shape"
      ]
    },
    {
      "cell_type": "code",
      "execution_count": null,
      "metadata": {
        "id": "5XmzXEUZp52a"
      },
      "outputs": [],
      "source": [
        "!cp /content/cc.ta.300.bin /content/drive/MyDrive"
      ]
    },
    {
      "cell_type": "code",
      "execution_count": null,
      "metadata": {
        "colab": {
          "base_uri": "https://localhost:8080/"
        },
        "id": "zW0lGx0WqCQ4",
        "outputId": "85c573c7-21fc-423d-c59c-53cdb8297028"
      },
      "outputs": [
        {
          "data": {
            "text/plain": [
              "[(0.877907395362854, 'திருக்குறள்ல'),\n",
              " (0.8666226267814636, 'திருக்குறள்.பா'),\n",
              " (0.8464869856834412, 'திருக்குறள்by'),\n",
              " (0.8453330397605896, 'kதிருக்குறள்'),\n",
              " (0.8330744504928589, 'திருக்குறள்மணி'),\n",
              " (0.8178834319114685, 'திருக்குறள்வேள்'),\n",
              " (0.8055881261825562, 'திருக்குறள்Tags'),\n",
              " (0.7986128926277161, 'திருக்குறள்தான்'),\n",
              " (0.7862473130226135, 'உரைதிருக்குறள்'),\n",
              " (0.7777959108352661, 'திருக்குறள்சொல்')]"
            ]
          },
          "execution_count": 10,
          "metadata": {},
          "output_type": "execute_result"
        }
      ],
      "source": [
        "ft.get_nearest_neighbors('திருக்குறள்')"
      ]
    },
    {
      "cell_type": "code",
      "execution_count": null,
      "metadata": {
        "id": "3yxMsUs5q0vJ"
      },
      "outputs": [],
      "source": [
        "f=ft.get_sentence_vector('அகர முதல எழுத்தெல்லாம் ஆதி பகவன் முதற்றே உலகு')"
      ]
    },
    {
      "cell_type": "code",
      "execution_count": null,
      "metadata": {
        "id": "A5MrJfKKrzSU"
      },
      "outputs": [],
      "source": [
        "import numpy as np\n",
        "f1 = np.array(f).reshape(1,300)"
      ]
    },
    {
      "cell_type": "code",
      "execution_count": null,
      "metadata": {
        "colab": {
          "base_uri": "https://localhost:8080/"
        },
        "id": "3zYWqEJxwHBn",
        "outputId": "1efe5d19-5de8-4a6b-d039-fe9aab3204b1"
      },
      "outputs": [
        {
          "data": {
            "text/plain": [
              "(1, 300)"
            ]
          },
          "execution_count": 25,
          "metadata": {},
          "output_type": "execute_result"
        }
      ],
      "source": [
        "f1.shape"
      ]
    },
    {
      "cell_type": "code",
      "execution_count": null,
      "metadata": {
        "id": "wIQhDHRtwJMi"
      },
      "outputs": [],
      "source": [
        "thiru_features = []\n",
        "thiru_features.append(f1)"
      ]
    },
    {
      "cell_type": "code",
      "execution_count": null,
      "metadata": {
        "id": "Pa4bxqAkwlMk"
      },
      "outputs": [],
      "source": [
        "image_features_arr = np.asarray(thiru_features)\n",
        "image_features_arr = np.rollaxis(image_features_arr,1,0)\n",
        "image_features_arr = image_features_arr[0,:,:]\n",
        "\n",
        "np.savetxt('feature_vectors.txt',image_features_arr)\n"
      ]
    },
    {
      "cell_type": "code",
      "execution_count": null,
      "metadata": {
        "colab": {
          "base_uri": "https://localhost:8080/"
        },
        "id": "pApfHFFrxWdF",
        "outputId": "d8fbeadf-e7ca-4651-c3e8-73e2fd2cf565"
      },
      "outputs": [
        {
          "name": "stdout",
          "output_type": "stream",
          "text": [
            "feature_vectors_shape: (300,)\n",
            "num of videos: 300\n",
            "WARNING:tensorflow:From /usr/local/lib/python3.7/dist-packages/tensorflow/python/framework/op_def_library.py:263: colocate_with (from tensorflow.python.framework.ops) is deprecated and will be removed in a future version.\n",
            "Instructions for updating:\n",
            "Colocations handled automatically by placer.\n"
          ]
        }
      ],
      "source": [
        "import tensorflow as tf\n",
        "import numpy as np\n",
        "feature_vectors = np.loadtxt('/content/features/feature_vectors.txt')\n",
        "print (\"feature_vectors_shape:\",feature_vectors.shape)\n",
        "print (\"num of videos:\",feature_vectors.shape[0])\n",
        "num_of_samples=feature_vectors.shape[0]\n",
        "num_of_samples_each_class = 1\n",
        "\n",
        "features = tf.Variable(feature_vectors, name='features')\n",
        "\n",
        "\n",
        "\n"
      ]
    },
    {
      "cell_type": "code",
      "execution_count": null,
      "metadata": {
        "colab": {
          "base_uri": "https://localhost:8080/",
          "height": 921
        },
        "id": "3TJfLLblxk2o",
        "outputId": "c1293704-5972-4a48-ffd9-d86a6364e638"
      },
      "outputs": [
        {
          "name": "stdout",
          "output_type": "stream",
          "text": [
            "Collecting tensorflow==1.13.2\n",
            "  Downloading tensorflow-1.13.2-cp37-cp37m-manylinux1_x86_64.whl (92.7 MB)\n",
            "\u001b[K     |████████████████████████████████| 92.7 MB 1.5 MB/s \n",
            "\u001b[?25hCollecting tensorboard<1.14.0,>=1.13.0\n",
            "  Downloading tensorboard-1.13.1-py3-none-any.whl (3.2 MB)\n",
            "\u001b[K     |████████████████████████████████| 3.2 MB 35.2 MB/s \n",
            "\u001b[?25hRequirement already satisfied: termcolor>=1.1.0 in /usr/local/lib/python3.7/dist-packages (from tensorflow==1.13.2) (1.1.0)\n",
            "Requirement already satisfied: protobuf>=3.6.1 in /usr/local/lib/python3.7/dist-packages (from tensorflow==1.13.2) (3.17.3)\n",
            "Collecting tensorflow-estimator<1.14.0rc0,>=1.13.0\n",
            "  Downloading tensorflow_estimator-1.13.0-py2.py3-none-any.whl (367 kB)\n",
            "\u001b[K     |████████████████████████████████| 367 kB 42.9 MB/s \n",
            "\u001b[?25hRequirement already satisfied: keras-preprocessing>=1.0.5 in /usr/local/lib/python3.7/dist-packages (from tensorflow==1.13.2) (1.1.2)\n",
            "Requirement already satisfied: six>=1.10.0 in /usr/local/lib/python3.7/dist-packages (from tensorflow==1.13.2) (1.15.0)\n",
            "Requirement already satisfied: wheel>=0.26 in /usr/local/lib/python3.7/dist-packages (from tensorflow==1.13.2) (0.37.0)\n",
            "Requirement already satisfied: gast>=0.2.0 in /usr/local/lib/python3.7/dist-packages (from tensorflow==1.13.2) (0.4.0)\n",
            "Requirement already satisfied: numpy<2.0,>=1.16.0 in /usr/local/lib/python3.7/dist-packages (from tensorflow==1.13.2) (1.19.5)\n",
            "Collecting keras-applications>=1.0.6\n",
            "  Downloading Keras_Applications-1.0.8-py3-none-any.whl (50 kB)\n",
            "\u001b[K     |████████████████████████████████| 50 kB 6.3 MB/s \n",
            "\u001b[?25hRequirement already satisfied: absl-py>=0.1.6 in /usr/local/lib/python3.7/dist-packages (from tensorflow==1.13.2) (0.12.0)\n",
            "Requirement already satisfied: grpcio>=1.8.6 in /usr/local/lib/python3.7/dist-packages (from tensorflow==1.13.2) (1.41.0)\n",
            "Requirement already satisfied: astor>=0.6.0 in /usr/local/lib/python3.7/dist-packages (from tensorflow==1.13.2) (0.8.1)\n",
            "Requirement already satisfied: h5py in /usr/local/lib/python3.7/dist-packages (from keras-applications>=1.0.6->tensorflow==1.13.2) (3.1.0)\n",
            "Requirement already satisfied: markdown>=2.6.8 in /usr/local/lib/python3.7/dist-packages (from tensorboard<1.14.0,>=1.13.0->tensorflow==1.13.2) (3.3.4)\n",
            "Requirement already satisfied: werkzeug>=0.11.15 in /usr/local/lib/python3.7/dist-packages (from tensorboard<1.14.0,>=1.13.0->tensorflow==1.13.2) (1.0.1)\n",
            "Requirement already satisfied: importlib-metadata in /usr/local/lib/python3.7/dist-packages (from markdown>=2.6.8->tensorboard<1.14.0,>=1.13.0->tensorflow==1.13.2) (4.8.1)\n",
            "Collecting mock>=2.0.0\n",
            "  Downloading mock-4.0.3-py3-none-any.whl (28 kB)\n",
            "Requirement already satisfied: cached-property in /usr/local/lib/python3.7/dist-packages (from h5py->keras-applications>=1.0.6->tensorflow==1.13.2) (1.5.2)\n",
            "Requirement already satisfied: zipp>=0.5 in /usr/local/lib/python3.7/dist-packages (from importlib-metadata->markdown>=2.6.8->tensorboard<1.14.0,>=1.13.0->tensorflow==1.13.2) (3.6.0)\n",
            "Requirement already satisfied: typing-extensions>=3.6.4 in /usr/local/lib/python3.7/dist-packages (from importlib-metadata->markdown>=2.6.8->tensorboard<1.14.0,>=1.13.0->tensorflow==1.13.2) (3.7.4.3)\n",
            "Installing collected packages: mock, tensorflow-estimator, tensorboard, keras-applications, tensorflow\n",
            "  Attempting uninstall: tensorflow-estimator\n",
            "    Found existing installation: tensorflow-estimator 2.6.0\n",
            "    Uninstalling tensorflow-estimator-2.6.0:\n",
            "      Successfully uninstalled tensorflow-estimator-2.6.0\n",
            "  Attempting uninstall: tensorboard\n",
            "    Found existing installation: tensorboard 2.6.0\n",
            "    Uninstalling tensorboard-2.6.0:\n",
            "      Successfully uninstalled tensorboard-2.6.0\n",
            "  Attempting uninstall: tensorflow\n",
            "    Found existing installation: tensorflow 2.6.0\n",
            "    Uninstalling tensorflow-2.6.0:\n",
            "      Successfully uninstalled tensorflow-2.6.0\n",
            "\u001b[31mERROR: pip's dependency resolver does not currently take into account all the packages that are installed. This behaviour is the source of the following dependency conflicts.\n",
            "kapre 0.3.5 requires tensorflow>=2.0.0, but you have tensorflow 1.13.2 which is incompatible.\u001b[0m\n",
            "Successfully installed keras-applications-1.0.8 mock-4.0.3 tensorboard-1.13.1 tensorflow-1.13.2 tensorflow-estimator-1.13.0\n"
          ]
        },
        {
          "data": {
            "application/vnd.colab-display-data+json": {
              "pip_warning": {
                "packages": [
                  "tensorboard",
                  "tensorflow"
                ]
              }
            }
          },
          "metadata": {},
          "output_type": "display_data"
        }
      ],
      "source": [
        "!pip install tensorflow==1.13.2"
      ]
    },
    {
      "cell_type": "code",
      "execution_count": null,
      "metadata": {
        "id": "fFds18YWyvK1"
      },
      "outputs": [],
      "source": [
        "import tensorflow as tf\n",
        "import os\n",
        "from tensorflow.contrib.tensorboard.plugins import projector\n",
        "with tf.Session() as sess:\n",
        "    saver = tf.train.Saver([features])\n",
        "\n",
        "    sess.run(features.initializer)\n",
        "    saver.save(sess, os.path.join('videos_embed_classes.ckpt'))\n",
        "    \n",
        "    config = projector.ProjectorConfig()\n",
        "    \n",
        "    embedding = config.embeddings.add()\n",
        "    embedding.tensor_name = features.name\n",
        "          \n",
        "    projector.visualize_embeddings(tf.summary.FileWriter('/content/features/'), config)"
      ]
    },
    {
      "cell_type": "code",
      "execution_count": null,
      "metadata": {
        "colab": {
          "base_uri": "https://localhost:8080/",
          "height": 1000
        },
        "id": "cFEuTOkKywrb",
        "outputId": "2d29bacf-34ff-4217-bd25-cc5e72a0335f"
      },
      "outputs": [
        {
          "name": "stdout",
          "output_type": "stream",
          "text": [
            "Collecting tensorflow==2.2\n",
            "  Downloading tensorflow-2.2.0-cp37-cp37m-manylinux2010_x86_64.whl (516.2 MB)\n",
            "\u001b[K     |████████████████████████████████| 516.2 MB 4.5 kB/s \n",
            "\u001b[?25hRequirement already satisfied: termcolor>=1.1.0 in /usr/local/lib/python3.7/dist-packages (from tensorflow==2.2) (1.1.0)\n",
            "Requirement already satisfied: numpy<2.0,>=1.16.0 in /usr/local/lib/python3.7/dist-packages (from tensorflow==2.2) (1.19.5)\n",
            "Collecting gast==0.3.3\n",
            "  Downloading gast-0.3.3-py2.py3-none-any.whl (9.7 kB)\n",
            "Requirement already satisfied: keras-preprocessing>=1.1.0 in /usr/local/lib/python3.7/dist-packages (from tensorflow==2.2) (1.1.2)\n",
            "Requirement already satisfied: wheel>=0.26 in /usr/local/lib/python3.7/dist-packages (from tensorflow==2.2) (0.37.0)\n",
            "Requirement already satisfied: astunparse==1.6.3 in /usr/local/lib/python3.7/dist-packages (from tensorflow==2.2) (1.6.3)\n",
            "Requirement already satisfied: scipy==1.4.1 in /usr/local/lib/python3.7/dist-packages (from tensorflow==2.2) (1.4.1)\n",
            "Requirement already satisfied: absl-py>=0.7.0 in /usr/local/lib/python3.7/dist-packages (from tensorflow==2.2) (0.12.0)\n",
            "Requirement already satisfied: opt-einsum>=2.3.2 in /usr/local/lib/python3.7/dist-packages (from tensorflow==2.2) (3.3.0)\n",
            "Requirement already satisfied: google-pasta>=0.1.8 in /usr/local/lib/python3.7/dist-packages (from tensorflow==2.2) (0.2.0)\n",
            "Collecting tensorflow-estimator<2.3.0,>=2.2.0\n",
            "  Downloading tensorflow_estimator-2.2.0-py2.py3-none-any.whl (454 kB)\n",
            "\u001b[K     |████████████████████████████████| 454 kB 49.7 MB/s \n",
            "\u001b[?25hRequirement already satisfied: protobuf>=3.8.0 in /usr/local/lib/python3.7/dist-packages (from tensorflow==2.2) (3.17.3)\n",
            "Collecting tensorboard<2.3.0,>=2.2.0\n",
            "  Downloading tensorboard-2.2.2-py3-none-any.whl (3.0 MB)\n",
            "\u001b[K     |████████████████████████████████| 3.0 MB 34.1 MB/s \n",
            "\u001b[?25hRequirement already satisfied: grpcio>=1.8.6 in /usr/local/lib/python3.7/dist-packages (from tensorflow==2.2) (1.41.0)\n",
            "Collecting h5py<2.11.0,>=2.10.0\n",
            "  Downloading h5py-2.10.0-cp37-cp37m-manylinux1_x86_64.whl (2.9 MB)\n",
            "\u001b[K     |████████████████████████████████| 2.9 MB 38.6 MB/s \n",
            "\u001b[?25hRequirement already satisfied: wrapt>=1.11.1 in /usr/local/lib/python3.7/dist-packages (from tensorflow==2.2) (1.12.1)\n",
            "Requirement already satisfied: six>=1.12.0 in /usr/local/lib/python3.7/dist-packages (from tensorflow==2.2) (1.15.0)\n",
            "Requirement already satisfied: google-auth-oauthlib<0.5,>=0.4.1 in /usr/local/lib/python3.7/dist-packages (from tensorboard<2.3.0,>=2.2.0->tensorflow==2.2) (0.4.6)\n",
            "Requirement already satisfied: requests<3,>=2.21.0 in /usr/local/lib/python3.7/dist-packages (from tensorboard<2.3.0,>=2.2.0->tensorflow==2.2) (2.23.0)\n",
            "Requirement already satisfied: tensorboard-plugin-wit>=1.6.0 in /usr/local/lib/python3.7/dist-packages (from tensorboard<2.3.0,>=2.2.0->tensorflow==2.2) (1.8.0)\n",
            "Requirement already satisfied: werkzeug>=0.11.15 in /usr/local/lib/python3.7/dist-packages (from tensorboard<2.3.0,>=2.2.0->tensorflow==2.2) (1.0.1)\n",
            "Requirement already satisfied: google-auth<2,>=1.6.3 in /usr/local/lib/python3.7/dist-packages (from tensorboard<2.3.0,>=2.2.0->tensorflow==2.2) (1.35.0)\n",
            "Requirement already satisfied: setuptools>=41.0.0 in /usr/local/lib/python3.7/dist-packages (from tensorboard<2.3.0,>=2.2.0->tensorflow==2.2) (57.4.0)\n",
            "Requirement already satisfied: markdown>=2.6.8 in /usr/local/lib/python3.7/dist-packages (from tensorboard<2.3.0,>=2.2.0->tensorflow==2.2) (3.3.4)\n",
            "Requirement already satisfied: cachetools<5.0,>=2.0.0 in /usr/local/lib/python3.7/dist-packages (from google-auth<2,>=1.6.3->tensorboard<2.3.0,>=2.2.0->tensorflow==2.2) (4.2.4)\n",
            "Requirement already satisfied: pyasn1-modules>=0.2.1 in /usr/local/lib/python3.7/dist-packages (from google-auth<2,>=1.6.3->tensorboard<2.3.0,>=2.2.0->tensorflow==2.2) (0.2.8)\n",
            "Requirement already satisfied: rsa<5,>=3.1.4 in /usr/local/lib/python3.7/dist-packages (from google-auth<2,>=1.6.3->tensorboard<2.3.0,>=2.2.0->tensorflow==2.2) (4.7.2)\n",
            "Requirement already satisfied: requests-oauthlib>=0.7.0 in /usr/local/lib/python3.7/dist-packages (from google-auth-oauthlib<0.5,>=0.4.1->tensorboard<2.3.0,>=2.2.0->tensorflow==2.2) (1.3.0)\n",
            "Requirement already satisfied: importlib-metadata in /usr/local/lib/python3.7/dist-packages (from markdown>=2.6.8->tensorboard<2.3.0,>=2.2.0->tensorflow==2.2) (4.8.1)\n",
            "Requirement already satisfied: pyasn1<0.5.0,>=0.4.6 in /usr/local/lib/python3.7/dist-packages (from pyasn1-modules>=0.2.1->google-auth<2,>=1.6.3->tensorboard<2.3.0,>=2.2.0->tensorflow==2.2) (0.4.8)\n",
            "Requirement already satisfied: chardet<4,>=3.0.2 in /usr/local/lib/python3.7/dist-packages (from requests<3,>=2.21.0->tensorboard<2.3.0,>=2.2.0->tensorflow==2.2) (3.0.4)\n",
            "Requirement already satisfied: urllib3!=1.25.0,!=1.25.1,<1.26,>=1.21.1 in /usr/local/lib/python3.7/dist-packages (from requests<3,>=2.21.0->tensorboard<2.3.0,>=2.2.0->tensorflow==2.2) (1.24.3)\n",
            "Requirement already satisfied: idna<3,>=2.5 in /usr/local/lib/python3.7/dist-packages (from requests<3,>=2.21.0->tensorboard<2.3.0,>=2.2.0->tensorflow==2.2) (2.10)\n",
            "Requirement already satisfied: certifi>=2017.4.17 in /usr/local/lib/python3.7/dist-packages (from requests<3,>=2.21.0->tensorboard<2.3.0,>=2.2.0->tensorflow==2.2) (2021.5.30)\n",
            "Requirement already satisfied: oauthlib>=3.0.0 in /usr/local/lib/python3.7/dist-packages (from requests-oauthlib>=0.7.0->google-auth-oauthlib<0.5,>=0.4.1->tensorboard<2.3.0,>=2.2.0->tensorflow==2.2) (3.1.1)\n",
            "Requirement already satisfied: zipp>=0.5 in /usr/local/lib/python3.7/dist-packages (from importlib-metadata->markdown>=2.6.8->tensorboard<2.3.0,>=2.2.0->tensorflow==2.2) (3.6.0)\n",
            "Requirement already satisfied: typing-extensions>=3.6.4 in /usr/local/lib/python3.7/dist-packages (from importlib-metadata->markdown>=2.6.8->tensorboard<2.3.0,>=2.2.0->tensorflow==2.2) (3.7.4.3)\n",
            "Installing collected packages: tensorflow-estimator, tensorboard, h5py, gast, tensorflow\n",
            "  Attempting uninstall: tensorflow-estimator\n",
            "    Found existing installation: tensorflow-estimator 1.13.0\n",
            "    Uninstalling tensorflow-estimator-1.13.0:\n",
            "      Successfully uninstalled tensorflow-estimator-1.13.0\n",
            "  Attempting uninstall: tensorboard\n",
            "    Found existing installation: tensorboard 1.13.1\n",
            "    Uninstalling tensorboard-1.13.1:\n",
            "      Successfully uninstalled tensorboard-1.13.1\n",
            "  Attempting uninstall: h5py\n",
            "    Found existing installation: h5py 3.1.0\n",
            "    Uninstalling h5py-3.1.0:\n",
            "      Successfully uninstalled h5py-3.1.0\n",
            "  Attempting uninstall: gast\n",
            "    Found existing installation: gast 0.4.0\n",
            "    Uninstalling gast-0.4.0:\n",
            "      Successfully uninstalled gast-0.4.0\n",
            "  Attempting uninstall: tensorflow\n",
            "    Found existing installation: tensorflow 1.13.2\n",
            "    Uninstalling tensorflow-1.13.2:\n",
            "      Successfully uninstalled tensorflow-1.13.2\n",
            "Successfully installed gast-0.3.3 h5py-2.10.0 tensorboard-2.2.2 tensorflow-2.2.0 tensorflow-estimator-2.2.0\n"
          ]
        },
        {
          "data": {
            "application/vnd.colab-display-data+json": {
              "pip_warning": {
                "packages": [
                  "gast",
                  "h5py",
                  "tensorflow",
                  "tensorflow_estimator"
                ]
              }
            }
          },
          "metadata": {},
          "output_type": "display_data"
        }
      ],
      "source": [
        "!pip install tensorflow==2.2"
      ]
    },
    {
      "cell_type": "code",
      "execution_count": null,
      "metadata": {
        "id": "kfTNuFkT28B7"
      },
      "outputs": [],
      "source": [
        "!kill 1591"
      ]
    },
    {
      "cell_type": "code",
      "execution_count": null,
      "metadata": {
        "colab": {
          "background_save": true,
          "base_uri": "https://localhost:8080/",
          "height": 872
        },
        "id": "22EwdP3S1v29",
        "outputId": "bbd5af7d-a6ef-4bd9-f197-417fb4867af3"
      },
      "outputs": [
        {
          "data": {
            "text/plain": [
              "Reusing TensorBoard on port 6006 (pid 1820), started 0:01:26 ago. (Use '!kill 1820' to kill it.)"
            ]
          },
          "metadata": {},
          "output_type": "display_data"
        },
        {
          "data": {
            "application/javascript": [
              "\n",
              "        (async () => {\n",
              "            const url = await google.colab.kernel.proxyPort(6006, {\"cache\": true});\n",
              "            const iframe = document.createElement('iframe');\n",
              "            iframe.src = url;\n",
              "            iframe.setAttribute('width', '100%');\n",
              "            iframe.setAttribute('height', '800');\n",
              "            iframe.setAttribute('frameborder', 0);\n",
              "            document.body.appendChild(iframe);\n",
              "        })();\n",
              "    "
            ],
            "text/plain": [
              "<IPython.core.display.Javascript object>"
            ]
          },
          "metadata": {},
          "output_type": "display_data"
        }
      ],
      "source": [
        "%load_ext tensorboard\n",
        "%tensorboard --logdir=/content/"
      ]
    },
    {
      "cell_type": "code",
      "execution_count": null,
      "metadata": {
        "id": "WegIP63s2aYb"
      },
      "outputs": [],
      "source": [
        ""
      ]
    }
  ],
  "metadata": {
    "accelerator": "GPU",
    "colab": {
      "collapsed_sections": [],
      "name": "Tamil_Thirukural_Analysis.ipynb",
      "provenance": [],
      "mount_file_id": "1lnPUWoW4gxyvCL-QXGvJ2-g00ilV9EaU",
      "authorship_tag": "ABX9TyMFU+77PVU41/KQP5WcuX54",
      "include_colab_link": true
    },
    "kernelspec": {
      "display_name": "Python 3",
      "name": "python3"
    },
    "language_info": {
      "name": "python"
    }
  },
  "nbformat": 4,
  "nbformat_minor": 0
}